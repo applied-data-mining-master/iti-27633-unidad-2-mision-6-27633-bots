{
  "nbformat": 4,
  "nbformat_minor": 0,
  "metadata": {
    "kernelspec": {
      "display_name": "Python 3.8.5 64-bit ('TheAppliedAIWorkshop')",
      "language": "python",
      "name": "python38564bittheappliedaiworkshopbbf3bf7f8981460693d2b1f0fcd6289d"
    },
    "language_info": {
      "codemirror_mode": {
        "name": "ipython",
        "version": 3
      },
      "file_extension": ".py",
      "mimetype": "text/x-python",
      "name": "python",
      "nbconvert_exporter": "python",
      "pygments_lexer": "ipython3",
      "version": "3.8.5"
    },
    "colab": {
      "name": "Exercise4_01.ipynb",
      "provenance": []
    }
  },
  "cells": [
    {
      "cell_type": "markdown",
      "metadata": {
        "id": "0Gu4Aeg_iBPX"
      },
      "source": [
        "# Exercise 4.01: Calculating Entropy\n",
        "\n",
        "In this exercise, we will calculate the entropy of the features in the dataset in Figure 4.6:\n",
        "\n",
        "![Figure 4.6](img/fig4_06.jpg)\n",
        "\n",
        "We will calculate entropy for the `Employed`, `Income`, `LoanType`, and `LoanAmount` features."
      ]
    },
    {
      "cell_type": "markdown",
      "metadata": {
        "id": "tdFdIckgiBPq"
      },
      "source": [
        "1.- Import the `numpy` package as `np"
      ]
    },
    {
      "cell_type": "code",
      "metadata": {
        "id": "ugnHn4q3iBPr"
      },
      "source": [
        "import numpy as np"
      ],
      "execution_count": 3,
      "outputs": []
    },
    {
      "cell_type": "markdown",
      "metadata": {
        "id": "KOSAA1bliBPs"
      },
      "source": [
        "2.- Define a function called `entropy()` that receives an array of probabilities and then returns the calculated entropy value."
      ]
    },
    {
      "cell_type": "code",
      "metadata": {
        "id": "8dkK50lViBPt"
      },
      "source": [
        "def entropy(probabilidad):\r\n",
        "  min = [-x for x in probabilidad]\r\n",
        "  max = [x for x in map(np.log2, probabilidad)]\r\n",
        "  return np.dot(min,max)\r\n"
      ],
      "execution_count": 4,
      "outputs": []
    },
    {
      "cell_type": "markdown",
      "metadata": {
        "id": "AoOBYHBkiBPw"
      },
      "source": [
        "Next, we will calculate the entropy of the `Employed` column. This column contains only two possible values: `True` or `False`. The `True` value appeared four times out of seven rows. Similarly, calculate the  probability of the false value where it appeared three times in this dataset."
      ]
    },
    {
      "cell_type": "markdown",
      "metadata": {
        "id": "Mm_4t7ZFiBPx"
      },
      "source": [
        "3.- Use the `entropy()` function to calculate the entropy of the `Employed`\n",
        "\n",
        "Output:\n",
        "\n",
        "`0.9852281360342515`"
      ]
    },
    {
      "cell_type": "code",
      "metadata": {
        "colab": {
          "base_uri": "https://localhost:8080/"
        },
        "id": "0uH3Xl-AiBPy",
        "outputId": "76e2e418-0641-47fa-de72-42105f04301c"
      },
      "source": [
        "Employed = entropy([4/7,3/7])\r\n",
        "Employed"
      ],
      "execution_count": 9,
      "outputs": [
        {
          "output_type": "execute_result",
          "data": {
            "text/plain": [
              "0.9852281360342515"
            ]
          },
          "metadata": {
            "tags": []
          },
          "execution_count": 9
        }
      ]
    },
    {
      "cell_type": "markdown",
      "metadata": {
        "id": "MLyhrSFxiBPy"
      },
      "source": [
        "This value is quite close to zero, which means the groups are quite homogenous."
      ]
    },
    {
      "cell_type": "markdown",
      "metadata": {
        "id": "YN9EypqSiBP1"
      },
      "source": [
        "4.- Use the `entropy()` function to calculate the entropy of the `Income` column with its corresponding list of probabilities.\n",
        "\n",
        "Output:\n",
        "\n",
        "`2.2359263506290326`"
      ]
    },
    {
      "cell_type": "code",
      "metadata": {
        "colab": {
          "base_uri": "https://localhost:8080/"
        },
        "id": "cAwS_vbTiBP1",
        "outputId": "b376707c-ab3c-4162-ff1e-bf538bbd67f3"
      },
      "source": [
        "income = entropy([1/7,2/7,1/7,2/7,1/7])\r\n",
        "income"
      ],
      "execution_count": 6,
      "outputs": [
        {
          "output_type": "execute_result",
          "data": {
            "text/plain": [
              "2.2359263506290326"
            ]
          },
          "metadata": {
            "tags": []
          },
          "execution_count": 6
        }
      ]
    },
    {
      "cell_type": "markdown",
      "metadata": {
        "id": "sqJYKpXUiBP2"
      },
      "source": [
        "Compared to the `Employed` column, the entropy for Income is higher. This means the probabilities of this column are more spread."
      ]
    },
    {
      "cell_type": "markdown",
      "metadata": {
        "id": "U5GZDx4BiBP2"
      },
      "source": [
        "5.- Use the `entropy` function to calculate the entropy of the `LoanType` column with its corresponding list of probabilities\n",
        "\n",
        "`1.5566567074628228`"
      ]
    },
    {
      "cell_type": "code",
      "metadata": {
        "colab": {
          "base_uri": "https://localhost:8080/"
        },
        "id": "oyjjfKIwiBP3",
        "outputId": "cfaef3a0-82a9-4727-9969-78d523b76463"
      },
      "source": [
        "LoanType = entropy([3/7,2/7,2/7])\r\n",
        "LoanType"
      ],
      "execution_count": 7,
      "outputs": [
        {
          "output_type": "execute_result",
          "data": {
            "text/plain": [
              "1.556656707462823"
            ]
          },
          "metadata": {
            "tags": []
          },
          "execution_count": 7
        }
      ]
    },
    {
      "cell_type": "markdown",
      "metadata": {
        "id": "Oh_SiAMNiBP3"
      },
      "source": [
        "This value is higher than 0, so the probabilities for this column are quite spread."
      ]
    },
    {
      "cell_type": "markdown",
      "metadata": {
        "id": "UqfeY_KjiBP4"
      },
      "source": [
        "6.- Let's use the `entropy` function to calculate the entropy of the `LoanAmount` column with its corresponding list of probabilities\n",
        "\n",
        "Output:\n",
        "\n",
        "`2.128085278891394`"
      ]
    },
    {
      "cell_type": "code",
      "metadata": {
        "colab": {
          "base_uri": "https://localhost:8080/"
        },
        "id": "UNekliHciBP4",
        "outputId": "30d2985a-6c04-4a1f-c5dd-28fdd8c38b20"
      },
      "source": [
        "LoanAmount = entropy([1/7,1/7,3/7,1/7,1/7])\r\n",
        "LoanAmount"
      ],
      "execution_count": 8,
      "outputs": [
        {
          "output_type": "execute_result",
          "data": {
            "text/plain": [
              "2.1280852788913944"
            ]
          },
          "metadata": {
            "tags": []
          },
          "execution_count": 8
        }
      ]
    },
    {
      "cell_type": "markdown",
      "metadata": {
        "id": "-rP-IVMkiBP4"
      },
      "source": [
        "The entropy for LoanAmount is quite high, so its values are quite random."
      ]
    },
    {
      "cell_type": "markdown",
      "metadata": {
        "id": "rcU93EumiBP5"
      },
      "source": [
        "Here, you can see that the `Employed` column has the lowest entropy among the four different columns because it has the least variation in terms of values."
      ]
    }
  ]
}